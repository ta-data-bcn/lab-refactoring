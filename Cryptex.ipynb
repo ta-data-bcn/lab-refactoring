{
 "cells": [
  {
   "cell_type": "code",
   "execution_count": 2,
   "metadata": {},
   "outputs": [],
   "source": [
    "import random"
   ]
  },
  {
   "cell_type": "code",
   "execution_count": 3,
   "metadata": {},
   "outputs": [],
   "source": [
    "# We create a dictionary with the equivalences character-ASCII code and ASCII code-character\n",
    "englishcodes=list(range(32,127))\n",
    "english_encrypting={}\n",
    "for i in range(95):\n",
    "    english_encrypting[chr(englishcodes[i])]=englishcodes[i]\n",
    "english_decrypting=dict()\n",
    "for i in range(95):\n",
    "    english_decrypting[englishcodes[i]]=chr(englishcodes[i])"
   ]
  },
  {
   "cell_type": "code",
   "execution_count": 4,
   "metadata": {},
   "outputs": [],
   "source": [
    "unique_equivalences = set()\n",
    "code_generator=[str(1), str(0), str(1), str(0), str(1), str(0), str(1), str(0), str(1), str(0)]"
   ]
  },
  {
   "cell_type": "code",
   "execution_count": 5,
   "metadata": {},
   "outputs": [],
   "source": [
    "# We create the encrypting code each of the 95 characters in the english alphabet\n",
    "while len(unique_equivalences)<95:\n",
    "    random.shuffle(code_generator)\n",
    "    shuffled=(\"\".join(code_generator))\n",
    "    unique_equivalences.add(shuffled)\n",
    "equivalences=list(unique_equivalences)"
   ]
  },
  {
   "cell_type": "code",
   "execution_count": 6,
   "metadata": {},
   "outputs": [],
   "source": [
    "# We generate a dictionary with the ASCII code-Emcripted code and the Encrypted code-ASCII code equivalences\n",
    "rosetta_stone_decrypting={}\n",
    "for i in range(95):\n",
    "    rosetta_stone_decrypting[equivalences[i]]=englishcodes[i]\n",
    "rosetta_stone_encrypting={}\n",
    "for i in range(95):\n",
    "    rosetta_stone_encrypting[englishcodes[i]]=equivalences[i]"
   ]
  },
  {
   "cell_type": "code",
   "execution_count": 7,
   "metadata": {},
   "outputs": [],
   "source": [
    "def encryption():\n",
    "    text2encrypt=input(\"What text do you wish to encrypt? \")\n",
    "    blanklist=[]\n",
    "    for character in text2encrypt:\n",
    "        blanklist.append(character)\n",
    "    encrypting_characters=[]\n",
    "    for i in blanklist:\n",
    "        encrypting_characters.append(english_encrypting.get(i))\n",
    "    rosetta_characters=[]\n",
    "    for i in encrypting_characters:\n",
    "        rosetta_characters.append(rosetta_stone_encrypting.get(i))\n",
    "    encrypted_input = (\"-\".join(rosetta_characters))\n",
    "    return encrypted_input"
   ]
  },
  {
   "cell_type": "code",
   "execution_count": 8,
   "metadata": {},
   "outputs": [],
   "source": [
    "def decryption():\n",
    "    text2encrypt=input(\"What text do you wish to decrypt? \")\n",
    "    \n",
    "    blanklist=text2encrypt.split(\"-\")\n",
    "    rosetta_characters=[]\n",
    "    for i in blanklist:\n",
    "        rosetta_characters.append(rosetta_stone_decrypting.get(i))\n",
    "    english_characters=[]\n",
    "    for i in rosetta_characters:\n",
    "        english_characters.append(english_decrypting.get(i))\n",
    "    decrypted_output=(\"\".join(english_characters))\n",
    "    return decrypted_output"
   ]
  },
  {
   "cell_type": "code",
   "execution_count": null,
   "metadata": {},
   "outputs": [],
   "source": []
  }
 ],
 "metadata": {
  "kernelspec": {
   "display_name": "Python 3",
   "language": "python",
   "name": "python3"
  },
  "language_info": {
   "codemirror_mode": {
    "name": "ipython",
    "version": 3
   },
   "file_extension": ".py",
   "mimetype": "text/x-python",
   "name": "python",
   "nbconvert_exporter": "python",
   "pygments_lexer": "ipython3",
   "version": "3.8.3"
  }
 },
 "nbformat": 4,
 "nbformat_minor": 4
}
