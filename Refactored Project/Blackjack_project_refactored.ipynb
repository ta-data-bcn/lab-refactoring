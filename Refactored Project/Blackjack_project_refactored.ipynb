{
 "cells": [
  {
   "cell_type": "markdown",
   "metadata": {},
   "source": [
    "# Blackjack"
   ]
  },
  {
   "cell_type": "markdown",
   "metadata": {},
   "source": [
    "### Generation of the game deck"
   ]
  },
  {
   "cell_type": "code",
   "execution_count": null,
   "metadata": {
    "scrolled": true
   },
   "outputs": [],
   "source": [
    "# Generation of the population of cards (6-deck) and also the score for each card.\n",
    "\n",
    "import random\n",
    "# Population of suits and faces\n",
    "suits = [\"spades\", \"clubs\", \"hearts\", \"diamonds\"]\n",
    "faces = [\"Two\", \"Three\", \"Four\", \"Five\", \"Six\", \"Seven\", \"Eight\", \"Nine\", \"Ten\", \"Jack\", \"Queen\", \"King\", \"Ace\"]\n",
    "faces_values = {\"Two\" : 2, \"Three\" : 3, \"Four\" : 4, \"Five\" : 5, \"Six\" : 6, \"Seven\" : 7, \"Eight\" : 8, \"Nine\" : 9,\n",
    "                \"Ten\" : 10, \"Jack\" : 10, \"Queen\" : 10, \"King\" : 10, \"Ace\" : (11,1)}\n",
    "\n",
    "# Now we iterate for both faces and suits, and create a standard deck along with a dict with its valuations.\n",
    "one_deck = []\n",
    "deck_values = {}\n",
    "for suit in suits:\n",
    "    for face in faces:\n",
    "        one_deck.append(face + ' of ' + suit)\n",
    "        deck_values[face + ' of ' + suit] = faces_values[face]\n",
    "\n",
    "# As in a typical blackjack 6 decks are used to prevent card counting, a full deck is formed.\n",
    "\n",
    "full_deck = one_deck * 6\n",
    "\n",
    "# Preparing the final deck while remaining the full_deck untouched in case a reshuffle needs to be done\n",
    "deck = full_deck.copy()\n",
    "random.shuffle(deck)"
   ]
  },
  {
   "cell_type": "markdown",
   "metadata": {},
   "source": [
    "## Main code"
   ]
  },
  {
   "cell_type": "code",
   "execution_count": 4,
   "metadata": {},
   "outputs": [
    {
     "name": "stdout",
     "output_type": "stream",
     "text": [
      "Introduce a number of players which will play: 2\n",
      "The selected number of players is 2\n",
      "\n",
      "\n",
      "Introduce the name for Player 1: pol\n",
      "Hello pol, welcome to Blackjack!\n",
      "pol, please introduce now the amount of money that you will lose today: 3000\n",
      "Okay! So 3000€ then!. Enjoy the game!\n",
      "\n",
      "\n",
      "Introduce the name for Player 2: 5\n",
      "Hello 5, welcome to Blackjack!\n",
      "5, please introduce now the amount of money that you will lose today: 5000\n",
      "Okay! So 5000€ then!. Enjoy the game!\n",
      "\n",
      "\n",
      "\n",
      "\n",
      "A new Round Starts!\n",
      "\n",
      "\n"
     ]
    },
    {
     "ename": "NameError",
     "evalue": "name 'wallet' is not defined",
     "output_type": "error",
     "traceback": [
      "\u001b[1;31m---------------------------------------------------------------------------\u001b[0m",
      "\u001b[1;31mNameError\u001b[0m                                 Traceback (most recent call last)",
      "\u001b[1;32m<ipython-input-4-318f9ac0177a>\u001b[0m in \u001b[0;36m<module>\u001b[1;34m\u001b[0m\n\u001b[0;32m     12\u001b[0m     \u001b[0mprint\u001b[0m\u001b[1;33m(\u001b[0m\u001b[1;34m'A new Round Starts!'\u001b[0m\u001b[1;33m)\u001b[0m\u001b[1;33m\u001b[0m\u001b[1;33m\u001b[0m\u001b[0m\n\u001b[0;32m     13\u001b[0m     \u001b[0mprint\u001b[0m\u001b[1;33m(\u001b[0m\u001b[1;34m'\\n'\u001b[0m\u001b[1;33m)\u001b[0m\u001b[1;33m\u001b[0m\u001b[1;33m\u001b[0m\u001b[0m\n\u001b[1;32m---> 14\u001b[1;33m     \u001b[0mplayer_bets\u001b[0m \u001b[1;33m=\u001b[0m \u001b[0mbj\u001b[0m\u001b[1;33m.\u001b[0m\u001b[0mplace_bets\u001b[0m\u001b[1;33m(\u001b[0m\u001b[0mfinal_player_list\u001b[0m\u001b[1;33m)\u001b[0m         \u001b[1;31m#Player bet phase\u001b[0m\u001b[1;33m\u001b[0m\u001b[1;33m\u001b[0m\u001b[0m\n\u001b[0m\u001b[0;32m     15\u001b[0m     \u001b[0mbj\u001b[0m\u001b[1;33m.\u001b[0m\u001b[0mdrawing_round\u001b[0m\u001b[1;33m(\u001b[0m\u001b[1;33m)\u001b[0m                                     \u001b[1;31m#Player drawing phase\u001b[0m\u001b[1;33m\u001b[0m\u001b[1;33m\u001b[0m\u001b[0m\n\u001b[0;32m     16\u001b[0m     \u001b[0mbj\u001b[0m\u001b[1;33m.\u001b[0m\u001b[0mcheck_blackjack_phase\u001b[0m\u001b[1;33m(\u001b[0m\u001b[1;33m)\u001b[0m                             \u001b[1;31m#Check if any player or Dealer has Blackjack.\u001b[0m\u001b[1;33m\u001b[0m\u001b[1;33m\u001b[0m\u001b[0m\n",
      "\u001b[1;32m~\\Documents\\Ironhack\\Project-Week-1-Build-Your-Own-Game\\your-project\\New Project 1 refactored\\bjfunctions.py\u001b[0m in \u001b[0;36mplace_bets\u001b[1;34m(players)\u001b[0m\n\u001b[0;32m     51\u001b[0m     \u001b[1;32mglobal\u001b[0m \u001b[0mwallet\u001b[0m\u001b[1;33m\u001b[0m\u001b[1;33m\u001b[0m\u001b[0m\n\u001b[0;32m     52\u001b[0m \u001b[1;33m\u001b[0m\u001b[0m\n\u001b[1;32m---> 53\u001b[1;33m     \u001b[1;32mfor\u001b[0m \u001b[0mplayer\u001b[0m \u001b[1;32min\u001b[0m \u001b[0mplayers\u001b[0m\u001b[1;33m:\u001b[0m\u001b[1;33m\u001b[0m\u001b[1;33m\u001b[0m\u001b[0m\n\u001b[0m\u001b[0;32m     54\u001b[0m         \u001b[1;32mwhile\u001b[0m \u001b[1;32mTrue\u001b[0m\u001b[1;33m:\u001b[0m\u001b[1;33m\u001b[0m\u001b[1;33m\u001b[0m\u001b[0m\n\u001b[0;32m     55\u001b[0m             \u001b[1;32mtry\u001b[0m\u001b[1;33m:\u001b[0m\u001b[1;33m\u001b[0m\u001b[1;33m\u001b[0m\u001b[0m\n",
      "\u001b[1;31mNameError\u001b[0m: name 'wallet' is not defined"
     ]
    }
   ],
   "source": [
    "import bjfunctions as bj\n",
    "num_players = bj.number_players_introduction()                                #1st phase, introduction of number of players\n",
    "player_list,wallet,score,hands = bj.create_dicts_scores_wallets (num_players) # Creation of stats and dictionaries.\n",
    "\n",
    "final_player_list = player_list.copy()                     # Copy of players to allow elimination.\n",
    "initial_wallet = wallet.copy()                             #Copy of initial wallet in order to display the difference at the end of the game.\n",
    "                                                           # (how much money each player has won/lost)\n",
    "wannaplay = True                                           #If this parameter is set to False in the end_of_round() outcome, the game ends.\n",
    "\n",
    "while wannaplay:\n",
    "    print('\\n')\n",
    "    print('A new Round Starts!')\n",
    "    print('\\n')\n",
    "    player_bets = bj.place_bets(final_player_list)         #Player bet phase\n",
    "    bj.drawing_round()                                     #Player drawing phase\n",
    "    bj.check_blackjack_phase()                             #Check if any player or Dealer has Blackjack.\n",
    "    if not bj.blackjack('Dealer'):\n",
    "        bj.player_round()                                  #Player round. Only triggers if Dealer has no Blackjack.\n",
    "        bj.dealer_round()                                  #Dealer round. Only triggers if Dealer has no Blackjack\n",
    "    bj.final_score()                                       #Final scores of the round.\n",
    "    wannaplay = bj.end_of_round()                          #End of round phase, which may set the \"wannaplay\" parameter to False."
   ]
  },
  {
   "cell_type": "code",
   "execution_count": null,
   "metadata": {},
   "outputs": [],
   "source": []
  }
 ],
 "metadata": {
  "kernelspec": {
   "display_name": "Python 3",
   "language": "python",
   "name": "python3"
  },
  "language_info": {
   "codemirror_mode": {
    "name": "ipython",
    "version": 3
   },
   "file_extension": ".py",
   "mimetype": "text/x-python",
   "name": "python",
   "nbconvert_exporter": "python",
   "pygments_lexer": "ipython3",
   "version": "3.7.6"
  }
 },
 "nbformat": 4,
 "nbformat_minor": 4
}
