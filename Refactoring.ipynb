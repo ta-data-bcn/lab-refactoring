{
 "cells": [
  {
   "cell_type": "code",
   "execution_count": 1,
   "metadata": {},
   "outputs": [],
   "source": [
    "# We import Cryptex, a library containing the formulas and dictionaries needed to encrypt and decrypt\n",
    "\n",
    "import Cryptex"
   ]
  },
  {
   "cell_type": "code",
   "execution_count": 3,
   "metadata": {},
   "outputs": [
    {
     "name": "stdout",
     "output_type": "stream",
     "text": [
      "Do you want to encrypt or decrypt a message? (please type encrypt/decrypt)encryot\n",
      "Oops! I didn't understand! Do you want to encrypt or decrypt?(please type encrypt or decrypt)encrypt\n",
      "What text do you wish to encrypt? Hello world!\n",
      "0110100101-0110010011-0110010110-0110010110-0110010101-0011100011-1100100101-0110010101-0001101110-0110010110-1000011110-1000100111\n"
     ]
    }
   ],
   "source": [
    "# We generate the flow of the program, where we define if we are doing an encryption \n",
    "    # or a decryption and then run the optimal formula\n",
    "decision=input(\"Do you want to encrypt or decrypt a message? (please type encrypt/decrypt)\")\n",
    "while (decision!=\"encrypt\") and (decision!=\"decrypt\"):\n",
    "    decision=input(\"Oops! I didn't understand! Do you want to encrypt or decrypt?\"\n",
    "                   \"(please type encrypt or decrypt)\")\n",
    "if decision == \"encrypt\":\n",
    "    print(Cryptex.encryption())\n",
    "else:\n",
    "    print(Cryptex.decryption())"
   ]
  }
 ],
 "metadata": {
  "kernelspec": {
   "display_name": "Python 3",
   "language": "python",
   "name": "python3"
  },
  "language_info": {
   "codemirror_mode": {
    "name": "ipython",
    "version": 3
   },
   "file_extension": ".py",
   "mimetype": "text/x-python",
   "name": "python",
   "nbconvert_exporter": "python",
   "pygments_lexer": "ipython3",
   "version": "3.8.3"
  }
 },
 "nbformat": 4,
 "nbformat_minor": 4
}
