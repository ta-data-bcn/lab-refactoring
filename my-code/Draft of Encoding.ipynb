{
 "cells": [
  {
   "cell_type": "markdown",
   "metadata": {},
   "source": [
    "We first import the charachters that will compose our charachter list, which is our main resource"
   ]
  },
  {
   "cell_type": "code",
   "execution_count": 1,
   "metadata": {},
   "outputs": [
    {
     "name": "stdout",
     "output_type": "stream",
     "text": [
      "['0', '1', '2', '3', '4', '5', '6', '7', '8', '9', 'a', 'b', 'c', 'd', 'e', 'f', 'g', 'h', 'i', 'j', 'k', 'l', 'm', 'n', 'o', 'p', 'q', 'r', 's', 't', 'u', 'v', 'w', 'x', 'y', 'z', 'A', 'B', 'C', 'D', 'E', 'F', 'G', 'H', 'I', 'J', 'K', 'L', 'M', 'N', 'O', 'P', 'Q', 'R', 'S', 'T', 'U', 'V', 'W', 'X', 'Y', 'Z', '!', '\"', '#', '$', '%', '&', \"'\", '(', ')', '*', '+', ',', '-', '.', '/', ':', ';', '<', '=', '>', '?', '@', '[', '\\\\', ']', '^', '_', '`', '{', '|', '}', '~', ' ', '\\t', '\\n', '\\r', '\\x0b', '\\x0c']\n"
     ]
    }
   ],
   "source": [
    "\n",
    "import string \n",
    "char_list=list(string.printable)\n",
    "print(char_list)"
   ]
  },
  {
   "cell_type": "code",
   "execution_count": 2,
   "metadata": {},
   "outputs": [
    {
     "name": "stdout",
     "output_type": "stream",
     "text": [
      "{'0': '~', '1': ' ', '2': '\\t', '3': '\\n', '4': '\\r', '5': '\\x0b', '6': '\\x0c', '7': '0', '8': '1', '9': '2', 'a': '3', 'b': '4', 'c': '5', 'd': '6', 'e': '7', 'f': '8', 'g': '9', 'h': 'a', 'i': 'b', 'j': 'c', 'k': 'd', 'l': 'e', 'm': 'f', 'n': 'g', 'o': 'h', 'p': 'i', 'q': 'j', 'r': 'k', 's': 'l', 't': 'm', 'u': 'n', 'v': 'o', 'w': 'p', 'x': 'q', 'y': 'r', 'z': 's', 'A': 't', 'B': 'u', 'C': 'v', 'D': 'w', 'E': 'x', 'F': 'y', 'G': 'z', 'H': 'A', 'I': 'B', 'J': 'C', 'K': 'D', 'L': 'E', 'M': 'F', 'N': 'G', 'O': 'H', 'P': 'I', 'Q': 'J', 'R': 'K', 'S': 'L', 'T': 'M', 'U': 'N', 'V': 'O', 'W': 'P', 'X': 'Q', 'Y': 'R', 'Z': 'S', '!': 'T', '\"': 'U', '#': 'V', '$': 'W', '%': 'X', '&': 'Y', \"'\": 'Z', '(': '!', ')': '\"', '*': '#', '+': '$', ',': '%', '-': '&', '.': \"'\", '/': '(', ':': ')', ';': '*', '<': '+', '=': ',', '>': '-', '?': '.', '@': '/', '[': ':', '\\\\': ';', ']': '<', '^': '=', '_': '>', '`': '?', '{': '@', '|': '[', '}': '\\\\', '~': ']', ' ': '^', '\\t': '_', '\\n': '`', '\\r': '{', '\\x0b': '|', '\\x0c': '}'}\n"
     ]
    }
   ],
   "source": [
    "#We are getting the first encoding level for our code in this dictionary by recoursively \n",
    "#introducing in a dictionary the charachters as keys and the charachter 7 to the left (index-7) as their value\n",
    "\n",
    "def first_encoding(x):\n",
    "    encoding_dict1 = {}\n",
    "    for index, item in enumerate(x):\n",
    "        encoding_dict1[item]=char_list[index-7]\n",
    "    return encoding_dict1\n",
    "\n",
    "encode_phase1=first_encoding(char_list)\n",
    "print(encode_phase1)\n"
   ]
  },
  {
   "cell_type": "code",
   "execution_count": 3,
   "metadata": {},
   "outputs": [
    {
     "name": "stdout",
     "output_type": "stream",
     "text": [
      "{'0': 126, '1': 32, '2': 9, '3': 10, '4': 13, '5': 11, '6': 12, '7': 48, '8': 49, '9': 50, 'a': 51, 'b': 52, 'c': 53, 'd': 54, 'e': 55, 'f': 56, 'g': 57, 'h': 97, 'i': 98, 'j': 99, 'k': 100, 'l': 101, 'm': 102, 'n': 103, 'o': 104, 'p': 105, 'q': 106, 'r': 107, 's': 108, 't': 109, 'u': 110, 'v': 111, 'w': 112, 'x': 113, 'y': 114, 'z': 115, 'A': 116, 'B': 117, 'C': 118, 'D': 119, 'E': 120, 'F': 121, 'G': 122, 'H': 65, 'I': 66, 'J': 67, 'K': 68, 'L': 69, 'M': 70, 'N': 71, 'O': 72, 'P': 73, 'Q': 74, 'R': 75, 'S': 76, 'T': 77, 'U': 78, 'V': 79, 'W': 80, 'X': 81, 'Y': 82, 'Z': 83, '!': 84, '\"': 85, '#': 86, '$': 87, '%': 88, '&': 89, \"'\": 90, '(': 33, ')': 34, '*': 35, '+': 36, ',': 37, '-': 38, '.': 39, '/': 40, ':': 41, ';': 42, '<': 43, '=': 44, '>': 45, '?': 46, '@': 47, '[': 58, '\\\\': 59, ']': 60, '^': 61, '_': 62, '`': 63, '{': 64, '|': 91, '}': 92, '~': 93, ' ': 94, '\\t': 95, '\\n': 96, '\\r': 123, '\\x0b': 124, '\\x0c': 125}\n"
     ]
    }
   ],
   "source": [
    "#what exactly do we need to encode now? The values.Wehave the first level of encoding, but we want to complicate it further.\n",
    "#We need to grab the values and transform them to binary\n",
    "#lets try that tomorrow if the rest works, by now transform to ascii, again recursively grab the value and transform to ASCII using ord()\n",
    "def second_encoding(x):\n",
    "    encoding_dict2 = {}\n",
    "    for pair in x:\n",
    "        char=x.get(pair[0])\n",
    "        new_char= ord(char)\n",
    "        encoding_dict2[pair[0]]=new_char\n",
    "    return encoding_dict2\n",
    "\n",
    "encode_phase2=second_encoding(encode_phase1)\n",
    "print(encode_phase2)\n",
    "\n",
    "        \n",
    "    "
   ]
  },
  {
   "cell_type": "code",
   "execution_count": 4,
   "metadata": {},
   "outputs": [
    {
     "name": "stdout",
     "output_type": "stream",
     "text": [
      "{'0': '126', '1': '32@', '2': '9*/', '3': '10@', '4': '13@', '5': '11@', '6': '12@', '7': '48@', '8': '49@', '9': '50@', 'a': '51@', 'b': '52@', 'c': '53@', 'd': '54@', 'e': '55@', 'f': '56@', 'g': '57@', 'h': '97@', 'i': '98@', 'j': '99@', 'k': '100', 'l': '101', 'm': '102', 'n': '103', 'o': '104', 'p': '105', 'q': '106', 'r': '107', 's': '108', 't': '109', 'u': '110', 'v': '111', 'w': '112', 'x': '113', 'y': '114', 'z': '115', 'A': '116', 'B': '117', 'C': '118', 'D': '119', 'E': '120', 'F': '121', 'G': '122', 'H': '65@', 'I': '66@', 'J': '67@', 'K': '68@', 'L': '69@', 'M': '70@', 'N': '71@', 'O': '72@', 'P': '73@', 'Q': '74@', 'R': '75@', 'S': '76@', 'T': '77@', 'U': '78@', 'V': '79@', 'W': '80@', 'X': '81@', 'Y': '82@', 'Z': '83@', '!': '84@', '\"': '85@', '#': '86@', '$': '87@', '%': '88@', '&': '89@', \"'\": '90@', '(': '33@', ')': '34@', '*': '35@', '+': '36@', ',': '37@', '-': '38@', '.': '39@', '/': '40@', ':': '41@', ';': '42@', '<': '43@', '=': '44@', '>': '45@', '?': '46@', '@': '47@', '[': '58@', '\\\\': '59@', ']': '60@', '^': '61@', '_': '62@', '`': '63@', '{': '64@', '|': '91@', '}': '92@', '~': '93@', ' ': '94@', '\\t': '95@', '\\n': '96@', '\\r': '123', '\\x0b': '124', '\\x0c': '125'}\n",
      "{'126': '0', '32@': '1', '9*/': '2', '10@': '3', '13@': '4', '11@': '5', '12@': '6', '48@': '7', '49@': '8', '50@': '9', '51@': 'a', '52@': 'b', '53@': 'c', '54@': 'd', '55@': 'e', '56@': 'f', '57@': 'g', '97@': 'h', '98@': 'i', '99@': 'j', '100': 'k', '101': 'l', '102': 'm', '103': 'n', '104': 'o', '105': 'p', '106': 'q', '107': 'r', '108': 's', '109': 't', '110': 'u', '111': 'v', '112': 'w', '113': 'x', '114': 'y', '115': 'z', '116': 'A', '117': 'B', '118': 'C', '119': 'D', '120': 'E', '121': 'F', '122': 'G', '65@': 'H', '66@': 'I', '67@': 'J', '68@': 'K', '69@': 'L', '70@': 'M', '71@': 'N', '72@': 'O', '73@': 'P', '74@': 'Q', '75@': 'R', '76@': 'S', '77@': 'T', '78@': 'U', '79@': 'V', '80@': 'W', '81@': 'X', '82@': 'Y', '83@': 'Z', '84@': '!', '85@': '\"', '86@': '#', '87@': '$', '88@': '%', '89@': '&', '90@': \"'\", '33@': '(', '34@': ')', '35@': '*', '36@': '+', '37@': ',', '38@': '-', '39@': '.', '40@': '/', '41@': ':', '42@': ';', '43@': '<', '44@': '=', '45@': '>', '46@': '?', '47@': '@', '58@': '[', '59@': '\\\\', '60@': ']', '61@': '^', '62@': '_', '63@': '`', '64@': '{', '91@': '|', '92@': '}', '93@': '~', '94@': ' ', '95@': '\\t', '96@': '\\n', '123': '\\r', '124': '\\x0b', '125': '\\x0c'}\n"
     ]
    }
   ],
   "source": [
    "#lets do an intermediate step that will help us with decoding\n",
    "#the problem is that since we have keys which value is either 1 , 2 or 3 charachters long,\n",
    "#it would be difficult for the program to now how to break the numbers down for translation\n",
    "#we are going to transform them into havin 3 charachters each\n",
    "#the type of encryption on this can be inproved I don't like having so many @\n",
    "#we are adding @ to the ones with 2 charachters and */ to the ones with 1, but to do so we have had to transform them into str.\n",
    "def same_lenght_version(x):\n",
    "    encoding_dict3 = {}\n",
    "    for pair in x:\n",
    "        char=str(x.get(pair[0]))\n",
    "        if len(char) == 2:\n",
    "            new_char=char+'@'\n",
    "        elif len(char) == 1:\n",
    "            new_char=char+'*/'\n",
    "        else:\n",
    "            new_char=char\n",
    "        encoding_dict3[pair[0]]=new_char\n",
    "    return encoding_dict3\n",
    "\n",
    "encode_phase3=same_lenght_version(encode_phase2)\n",
    "print(encode_phase3)\n",
    "\n",
    "\n",
    "#now we are gonna have the reverse dictionary for decoding. It is however flexible for other dictionaries, since you pass it as an argument\n",
    "\n",
    "def cheat_decoding(x):\n",
    "    decoding_dict3 = {}\n",
    "    for item in (x):\n",
    "        old_v=x.get(item[0])\n",
    "        decoding_dict3[old_v]=item[0]\n",
    "    return decoding_dict3\n",
    "\n",
    "decoded_dict=cheat_decoding(encode_phase3)\n",
    "print(decoded_dict)"
   ]
  },
  {
   "cell_type": "code",
   "execution_count": 5,
   "metadata": {
    "scrolled": true
   },
   "outputs": [
    {
     "name": "stdout",
     "output_type": "stream",
     "text": [
      "Please introduce the message for encoding: jUST WHEN i THOUGHT\n"
     ]
    },
    {
     "data": {
      "text/plain": [
       "'99@78@76@77@94@80@65@12071@94@98@94@77@65@72@78@12265@77@'"
      ]
     },
     "execution_count": 5,
     "metadata": {},
     "output_type": "execute_result"
    }
   ],
   "source": [
    "#now that we have our 'semi' final equivalence we have to build the translator.\n",
    "#maybe we do not need to reformat to account for spaces because spaces are translated in our dictionary\n",
    "def ultimate_encoder():\n",
    "    new_list=[]\n",
    "    message=input('Please introduce the message for encoding: ')\n",
    "    for i in message:\n",
    "        #here we can change the encryption level by changing the dictionary from wich we encode, so the code is flexible\n",
    "        new_char=encode_phase3.get(i)\n",
    "        new_s=str(new_char)\n",
    "        new_list.append(new_s)\n",
    "        joined_str = (\"\".join(new_list))\n",
    "    return joined_str\n",
    "\n",
    "ultimate_encoder()\n",
    "        "
   ]
  },
  {
   "cell_type": "code",
   "execution_count": 6,
   "metadata": {},
   "outputs": [
    {
     "name": "stdout",
     "output_type": "stream",
     "text": [
      "Please introduce the message for decoding:99@78@76@77@94@80@65@12071@94@98@94@77@65@72@78@12265@77@\n"
     ]
    },
    {
     "data": {
      "text/plain": [
       "'jUST WHEN i THOUGHT'"
      ]
     },
     "execution_count": 6,
     "metadata": {},
     "output_type": "execute_result"
    }
   ],
   "source": [
    "#now we try to decode. Didn't use this one in the final version, it was too easy to bug.\n",
    "\n",
    "def ultimate_decoder():\n",
    "    broke_down=[]\n",
    "    translated = []\n",
    "    message=input('Please introduce the message for decoding:')\n",
    "    for i in range(0, len(message), 3):\n",
    "        char=message[i:i+3] \n",
    "        broke_down.append(char)\n",
    "    \n",
    "    for i in broke_down:\n",
    "        tr_char=decoded_dict.get(i)\n",
    "        new_tr=tr_char\n",
    "        translated.append(new_tr)\n",
    "        joined_str = (\"\".join(translated))\n",
    "    return joined_str\n",
    "\n",
    "ultimate_decoder()"
   ]
  },
  {
   "cell_type": "code",
   "execution_count": 7,
   "metadata": {},
   "outputs": [],
   "source": [
    "our_dict_list= list(decoded_dict.keys())"
   ]
  },
  {
   "cell_type": "code",
   "execution_count": 8,
   "metadata": {},
   "outputs": [
    {
     "name": "stdout",
     "output_type": "stream",
     "text": [
      "Please introduce the message for decoding:SHC\n",
      "We are not able to decode a different encoding algorithm, please introduce a valid code:99@78@76@77@94@80@65@12071@94@98@94@77@65@72@78@12265@77@\n",
      "['99@', '78@', '76@', '77@', '94@', '80@', '65@', '120', '71@', '94@', '98@', '94@', '77@', '65@', '72@', '78@', '122', '65@', '77@']\n",
      "jUST WHEN i THOUGHT\n"
     ]
    }
   ],
   "source": [
    "#This is the decoder that ended up getting into the final form\n",
    "def improved_decoder():\n",
    "    broke_down=[]\n",
    "    translated = []\n",
    "    \n",
    "     #making sure that all the inputs are strings        \n",
    "    message=str(input('Please introduce the message for decoding:'))\n",
    "\n",
    "    \n",
    "    #breaking the string down into parts to check if we can translate it, then translate it\n",
    "    for i in range(0, len(message), 3):\n",
    "        char=message[i:i+3]\n",
    "        broke_down.append(char)\n",
    "   \n",
    "    #making sure that the input is in OUR encoding method. the wile loop is made to ensure infinite oportunities for inputting\n",
    "    #the correct code are available\n",
    "    while message != None:\n",
    "        if set(broke_down).issubset(set(our_dict_list)):\n",
    "            #if it is it will proceed to translate, print and break the loop\n",
    "            for i in broke_down:\n",
    "                tr_char=decoded_dict.get(i)\n",
    "                translated.append(tr_char)\n",
    "                joined_str = (\"\".join(translated))\n",
    "            print(joined_str)\n",
    "            break\n",
    "        else:\n",
    "            message = str(input('We are not able to decode a different encoding algorithm, please introduce a valid code:'))\n",
    "            broke_down = []\n",
    "            for i in range(0, len(message), 3):\n",
    "                char=message[i:i+3]\n",
    "                broke_down.append(char)\n",
    "            \n",
    "            \n",
    "            continue\n",
    "                #this else made sure that when the code wasnt ours you could re input a message to decode and restarted the process\n",
    "                #of breaking it into pieces to check if it was ours once it has made that whole process the continue remits us back\n",
    "                #to the begining of the while loop and the translation process.\n",
    "                #However in the final function we had to change the order of the conditions, because the break from the enclosing\n",
    "                #while loop of the other function needs to break when the translation finishes and it conflicted with this else.\n",
    "\n",
    "                \n",
    "improved_decoder()   "
   ]
  },
  {
   "cell_type": "code",
   "execution_count": null,
   "metadata": {},
   "outputs": [],
   "source": []
  },
  {
   "cell_type": "code",
   "execution_count": 15,
   "metadata": {},
   "outputs": [
    {
     "name": "stdout",
     "output_type": "stream",
     "text": [
      "Do you wish to encode or decode?alkdncs\n",
      "Please select a valid option:encode\n",
      "Please introduce the message for encoding: Bitch we close\n",
      "11798@10953@97@94@11255@94@53@10110410855@\n"
     ]
    }
   ],
   "source": [
    "def built_program():\n",
    "    \n",
    "    answer1=input('Do you wish to encode or decode?')\n",
    "    \n",
    "    while answer1 != None:\n",
    "        \n",
    "        if answer1 == 'encode':\n",
    "            new_list=[]\n",
    "            message=input('Please introduce the message for encoding: ')\n",
    "            for i in message:\n",
    "        #here we can change the encryption level by changing the dictionary from wich we encode, so the code is flexible\n",
    "                new_char=encode_phase3.get(i)\n",
    "                new_s=str(new_char)\n",
    "                new_list.append(new_s)\n",
    "                joined_str = (\"\".join(new_list))\n",
    "    \n",
    "            print(joined_str)\n",
    "            break\n",
    "        \n",
    "        elif answer1 == 'decode':\n",
    "            broke_down=[]\n",
    "            translated = []\n",
    "    \n",
    "            #making sure that all the inputs are strings    \n",
    "            message=str(input('Please introduce the message for decoding:'))\n",
    "\n",
    "    \n",
    "    #breaking the string down into parts to check if we can translate it, then translate it\n",
    "            for i in range(0, len(message), 3):\n",
    "                char=message[i:i+3]\n",
    "                broke_down.append(char)\n",
    "   \n",
    "    #making sure that the input is in OUR encoding method\n",
    "            while message != None:\n",
    "                if not set(broke_down).issubset(set(our_dict_list)):\n",
    "                    message = str(input('We are not able to decode a different encoding algorithm, please introduce a valid code:'))\n",
    "                    broke_down = []\n",
    "                    for i in range(0, len(message), 3):\n",
    "                        char=message[i:i+3]\n",
    "                        broke_down.append(char)\n",
    "                    print(broke_down)\n",
    "                    continue\n",
    "                    \n",
    "                \n",
    "                else:\n",
    "                    for i in broke_down:\n",
    "                        tr_char=decoded_dict.get(i)\n",
    "                        translated.append(tr_char)\n",
    "                        joined_str = (\"\".join(translated))\n",
    "                    print(joined_str)\n",
    "                    break\n",
    "            \n",
    "            break\n",
    "                #don't know if the continue is in the right place because the loop that \n",
    "        \n",
    "        else:\n",
    "            answer1=input('Please select a valid option:')\n",
    "            continue\n",
    "            \n",
    "built_program()\n",
    "\n",
    "\n"
   ]
  },
  {
   "cell_type": "code",
   "execution_count": null,
   "metadata": {},
   "outputs": [],
   "source": []
  }
 ],
 "metadata": {
  "kernelspec": {
   "display_name": "Python 3",
   "language": "python",
   "name": "python3"
  },
  "language_info": {
   "codemirror_mode": {
    "name": "ipython",
    "version": 3
   },
   "file_extension": ".py",
   "mimetype": "text/x-python",
   "name": "python",
   "nbconvert_exporter": "python",
   "pygments_lexer": "ipython3",
   "version": "3.7.6"
  }
 },
 "nbformat": 4,
 "nbformat_minor": 4
}
